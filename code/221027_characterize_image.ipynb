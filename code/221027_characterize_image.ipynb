{
 "cells": [
  {
   "cell_type": "code",
   "execution_count": 1,
   "metadata": {},
   "outputs": [],
   "source": [
    "import os\n",
    "import nd2\n",
    "import napari\n",
    "import pickle\n",
    "import numpy as np\n",
    "import pandas as pd\n",
    "from skimage.io import imread\n",
    "from skimage.measure import regionprops_table, profile_line\n",
    "from skimage.morphology import disk,erosion\n",
    "from scipy.ndimage import distance_transform_edt\n",
    "from cardiomyocytes_helper_functions import segment_actin_3D,calculate_orientation,find_fibers_orientation_v2,orientations_from_vertices, signal_from_vertices,divide_cell_outside_ring"
   ]
  },
  {
   "cell_type": "code",
   "execution_count": 2,
   "metadata": {},
   "outputs": [],
   "source": [
    "path_dir = r'D:\\data_analysis\\2022_Sahana\\data\\Collagen\\60x images'\n",
    "im_name = r'092622_ring_PDMSAp_10MCol_647-Act_561-Pax_488-Plak_DAPI_001.nd2'\n",
    "path_im = os.path.join(path_dir,im_name)\n",
    "\n",
    "path_vertices = r'D:\\data_analysis\\2022_Sahana\\masks'\n",
    "\n",
    "path_results = r'D:\\data_analysis\\2022_Sahana\\results'\n",
    "path_df = os.path.join(path_results,im_name.replace('.nd2','_df.pkl'))\n",
    "\n",
    "# order of channels\n",
    "    # actin\n",
    "    # paxilin\n",
    "    # plakoglobin\n",
    "    # DAPI\n"
   ]
  },
  {
   "cell_type": "markdown",
   "metadata": {},
   "source": [
    "## Read in the image and annotations"
   ]
  },
  {
   "cell_type": "code",
   "execution_count": 4,
   "metadata": {},
   "outputs": [
    {
     "data": {
      "text/plain": [
       "(27, 4, 512, 512)"
      ]
     },
     "execution_count": 4,
     "metadata": {},
     "output_type": "execute_result"
    }
   ],
   "source": [
    "# read in image\n",
    "im = nd2.imread(path_im)\n",
    "im.shape"
   ]
  },
  {
   "cell_type": "code",
   "execution_count": 5,
   "metadata": {},
   "outputs": [],
   "source": [
    "# read in polygons and masks\n",
    "\n",
    "pkl_path = os.path.join(path_vertices,im_name.replace('.nd2','_polygons.pkl'))\n",
    "\n",
    "with open(pkl_path, 'rb') as f:\n",
    "    vertices_polygons = pickle.load(f)\n",
    "\n",
    "mask_path = os.path.join(path_vertices,im_name.replace('.nd2','_mask.png'))\n",
    "mask = imread(mask_path)"
   ]
  },
  {
   "cell_type": "markdown",
   "metadata": {},
   "source": [
    "## Segment actin"
   ]
  },
  {
   "cell_type": "code",
   "execution_count": 6,
   "metadata": {},
   "outputs": [
    {
     "name": "stdout",
     "output_type": "stream",
     "text": [
      "intensity normalization: min-max normalization with NO absoluteintensity upper bound\n"
     ]
    }
   ],
   "source": [
    "# get actin channel\n",
    "image_actin = im[:,0,:,:]\n",
    "\n",
    "# segment actin volume\n",
    "image_actin_mask = segment_actin_3D(image_actin)\n",
    "\n",
    "# flatten segmented actin\n",
    "image_actin_mask_2D = np.max(image_actin_mask,axis=0)"
   ]
  },
  {
   "cell_type": "markdown",
   "metadata": {},
   "source": [
    "## Calculate general properties of cells"
   ]
  },
  {
   "cell_type": "code",
   "execution_count": 7,
   "metadata": {},
   "outputs": [],
   "source": [
    "# calculate properties of cells\n",
    "\n",
    "properties = ['label','area','centroid','bbox','eccentricity','orientation','intensity_mean','intensity_image','image']\n",
    "\n",
    "im_flat_all_channels = np.max(im,axis=0)\n",
    "im_flat_all = np.append(im_flat_all_channels,np.expand_dims(image_actin_mask_2D,axis=0),axis=0)\n",
    "im_flat_all = np.moveaxis(im_flat_all,0,2)\n",
    "\n",
    "cell_measure = regionprops_table(mask, intensity_image = im_flat_all, properties = properties)\n",
    "df = pd.DataFrame(cell_measure)\n",
    "df['image_name'] = im_name"
   ]
  },
  {
   "cell_type": "code",
   "execution_count": 8,
   "metadata": {},
   "outputs": [],
   "source": [
    "# add vertices to the table\n",
    "df['vertices'] = vertices_polygons"
   ]
  },
  {
   "cell_type": "code",
   "execution_count": 10,
   "metadata": {},
   "outputs": [
    {
     "data": {
      "text/plain": [
       "Index(['label', 'area', 'centroid-0', 'centroid-1', 'bbox-0', 'bbox-1',\n",
       "       'bbox-2', 'bbox-3', 'eccentricity', 'orientation', 'intensity_mean-0',\n",
       "       'intensity_mean-1', 'intensity_mean-2', 'intensity_mean-3',\n",
       "       'intensity_mean-4', 'intensity_image', 'image', 'image_name',\n",
       "       'vertices'],\n",
       "      dtype='object')"
      ]
     },
     "execution_count": 10,
     "metadata": {},
     "output_type": "execute_result"
    }
   ],
   "source": [
    "df.columns"
   ]
  },
  {
   "cell_type": "markdown",
   "metadata": {},
   "source": [
    "## Characterize orientation of the cell edge (based on vertices)"
   ]
  },
  {
   "cell_type": "code",
   "execution_count": 25,
   "metadata": {},
   "outputs": [],
   "source": [
    "# characterize the orientation of the edge of the cell\n",
    "\n",
    "df['membrane_orientation'] = None\n",
    "df['membrane_orientation'] = df['membrane_orientation'].astype(object)\n",
    "\n",
    "for i,cell in df.iterrows():\n",
    "\n",
    "    vert = cell.vertices\n",
    "\n",
    "    membrane_orientation = orientations_from_vertices(vert)\n",
    "\n",
    "    df.at[i,'membrane_orientation'] = membrane_orientation\n"
   ]
  },
  {
   "cell_type": "markdown",
   "metadata": {},
   "source": [
    "## Calculate general flow of actin"
   ]
  },
  {
   "cell_type": "code",
   "execution_count": 26,
   "metadata": {},
   "outputs": [],
   "source": [
    "# characterize actin orientation in the cells\n",
    "\n",
    "df['actin_detected'] = None\n",
    "df['actin_detected'] = df['actin_detected'].astype(object)\n",
    "df['actin_angles'] = None\n",
    "df['actin_angles'] = df['actin_angles'].astype(object)\n",
    "\n",
    "for i,cell in df.iterrows():\n",
    "\n",
    "    im_single_cell_actin = cell.intensity_image[:,:,4]\n",
    "\n",
    "    actin,actin_angles = find_fibers_orientation_v2(im_single_cell_actin)\n",
    "    \n",
    "    # calculate mean orientation of the fibers\n",
    "    actin_orientation = np.median(actin_angles)\n",
    "\n",
    "    # calculate spread of orientations\n",
    "    actin_spread = np.std(actin_angles)\n",
    "\n",
    "    df.at[i,'actin_detected'] = np.array(actin)\n",
    "    df.at[i,'actin_angles'] = np.array(actin_angles)\n",
    "    df.loc[i,'actin_orientation'] = actin_orientation\n",
    "    df.loc[i,'actin_spread'] = actin_spread"
   ]
  },
  {
   "cell_type": "markdown",
   "metadata": {},
   "source": [
    "## Characterize signals at the edge"
   ]
  },
  {
   "cell_type": "code",
   "execution_count": 27,
   "metadata": {},
   "outputs": [],
   "source": [
    "signal_max = np.max(im[:,2,:,:],axis=0)\n",
    "\n",
    "df['plak_signal'] = None\n",
    "df['plak_signal'] = df['plak_signal'].astype(object)\n",
    "\n",
    "for i,cell in df.iterrows():\n",
    "\n",
    "    vert = cell.vertices\n",
    "\n",
    "    signal_line = signal_from_vertices(vert,signal_max)\n",
    "\n",
    "    df.at[i,'plak_signal'] = signal_line"
   ]
  },
  {
   "cell_type": "markdown",
   "metadata": {},
   "source": [
    "## Generate edge regions"
   ]
  },
  {
   "cell_type": "code",
   "execution_count": 28,
   "metadata": {},
   "outputs": [
    {
     "name": "stderr",
     "output_type": "stream",
     "text": [
      "KMeans is known to have a memory leak on Windows with MKL, when there are less chunks than available threads. You can avoid it by setting the environment variable OMP_NUM_THREADS=3.\n",
      "KMeans is known to have a memory leak on Windows with MKL, when there are less chunks than available threads. You can avoid it by setting the environment variable OMP_NUM_THREADS=2.\n",
      "KMeans is known to have a memory leak on Windows with MKL, when there are less chunks than available threads. You can avoid it by setting the environment variable OMP_NUM_THREADS=1.\n",
      "KMeans is known to have a memory leak on Windows with MKL, when there are less chunks than available threads. You can avoid it by setting the environment variable OMP_NUM_THREADS=2.\n"
     ]
    }
   ],
   "source": [
    "ring_thickness = 10\n",
    "segment_number = 25\n",
    "\n",
    "df['outside_ring_regions'] = None\n",
    "\n",
    "for i,cell in df.iterrows():\n",
    "\n",
    "    cell_image = cell.image\n",
    "\n",
    "    cell_center = [cell['centroid-1']-cell['bbox-1'],cell['centroid-0']-cell['bbox-0']]\n",
    "\n",
    "    points_array = divide_cell_outside_ring(cell_image,cell_center,ring_thickness,segment_number)\n",
    "\n",
    "    # store in the data frame\n",
    "    df.at[i,'outside_ring_regions'] = points_array"
   ]
  },
  {
   "attachments": {},
   "cell_type": "markdown",
   "metadata": {},
   "source": [
    "## Calculate signal based on edge regions"
   ]
  },
  {
   "cell_type": "code",
   "execution_count": 29,
   "metadata": {},
   "outputs": [],
   "source": [
    "# initiate columns\n",
    "for s in range(4):\n",
    "    \n",
    "    df[f'signal_edge_{str(s).zfill(2)}'] = None\n",
    "\n",
    "for i,cell in df.iterrows():\n",
    "\n",
    "    # get positions of outside points\n",
    "    points_array = cell['outside_ring_regions']\n",
    "\n",
    "    for s in range(4):\n",
    "\n",
    "        signal_image = cell.intensity_image[:,:,s]\n",
    "\n",
    "        signal_list = []\n",
    "\n",
    "        for x in range(segment_number):\n",
    "\n",
    "            points_selected = points_array[points_array[:,2]==x,:]\n",
    "\n",
    "            signals = [signal_image[x[0],x[1]] for x in np.array([points_selected[:,0],points_selected[:,1]]).T]\n",
    "\n",
    "            signal = np.mean(signals)\n",
    "\n",
    "            signal_list.append(signal)\n",
    "\n",
    "        df.at[i,f'signal_edge_{str(s).zfill(2)}'] = signal_list"
   ]
  },
  {
   "attachments": {},
   "cell_type": "markdown",
   "metadata": {},
   "source": [
    "## Calculate radial distributions"
   ]
  },
  {
   "cell_type": "code",
   "execution_count": 30,
   "metadata": {},
   "outputs": [],
   "source": [
    "layer_num = 20\n",
    "\n",
    "# initiate columns\n",
    "for s in range(4):\n",
    "    \n",
    "    df[f'signal_radial_{str(s).zfill(2)}'] = None\n",
    "\n",
    "for i,cell in df.iterrows():\n",
    "\n",
    "    # generate distance transform\n",
    "    cell_shape = cell.image\n",
    "    dist = distance_transform_edt(cell_shape)\n",
    "\n",
    "    # digitize distance transform\n",
    "    step = np.max(dist)/layer_num\n",
    "\n",
    "    for n in range(layer_num):\n",
    "\n",
    "        dist[(dist>(n*step)) & (dist<=((n+1)*step))] = n+1\n",
    "\n",
    "    # calculate radial distribution signals\n",
    "    for s in range(4):\n",
    "\n",
    "        signal_image = cell.intensity_image[:,:,s]\n",
    "\n",
    "        signal_list = []\n",
    "\n",
    "        for n in range(layer_num):\n",
    "\n",
    "            signal = np.mean(signal_image*(dist==(n+1)))\n",
    "\n",
    "            signal_list.append(signal)\n",
    "\n",
    "        df.at[i,f'signal_radial_{str(s).zfill(2)}'] = signal_list\n"
   ]
  },
  {
   "cell_type": "markdown",
   "metadata": {},
   "source": [
    "## Show data frame"
   ]
  },
  {
   "cell_type": "code",
   "execution_count": 31,
   "metadata": {},
   "outputs": [
    {
     "data": {
      "text/html": [
       "<div>\n",
       "<style scoped>\n",
       "    .dataframe tbody tr th:only-of-type {\n",
       "        vertical-align: middle;\n",
       "    }\n",
       "\n",
       "    .dataframe tbody tr th {\n",
       "        vertical-align: top;\n",
       "    }\n",
       "\n",
       "    .dataframe thead th {\n",
       "        text-align: right;\n",
       "    }\n",
       "</style>\n",
       "<table border=\"1\" class=\"dataframe\">\n",
       "  <thead>\n",
       "    <tr style=\"text-align: right;\">\n",
       "      <th></th>\n",
       "      <th>label</th>\n",
       "      <th>area</th>\n",
       "      <th>centroid-0</th>\n",
       "      <th>centroid-1</th>\n",
       "      <th>bbox-0</th>\n",
       "      <th>bbox-1</th>\n",
       "      <th>bbox-2</th>\n",
       "      <th>bbox-3</th>\n",
       "      <th>eccentricity</th>\n",
       "      <th>orientation</th>\n",
       "      <th>...</th>\n",
       "      <th>plak_signal</th>\n",
       "      <th>outside_ring_regions</th>\n",
       "      <th>signal_edge_00</th>\n",
       "      <th>signal_edge_01</th>\n",
       "      <th>signal_edge_02</th>\n",
       "      <th>signal_edge_03</th>\n",
       "      <th>signal_radial_00</th>\n",
       "      <th>signal_radial_01</th>\n",
       "      <th>signal_radial_02</th>\n",
       "      <th>signal_radial_03</th>\n",
       "    </tr>\n",
       "  </thead>\n",
       "  <tbody>\n",
       "    <tr>\n",
       "      <th>0</th>\n",
       "      <td>1</td>\n",
       "      <td>21500</td>\n",
       "      <td>416.317721</td>\n",
       "      <td>305.246605</td>\n",
       "      <td>351</td>\n",
       "      <td>191</td>\n",
       "      <td>512</td>\n",
       "      <td>448</td>\n",
       "      <td>0.927055</td>\n",
       "      <td>-1.159706</td>\n",
       "      <td>...</td>\n",
       "      <td>[161.0, 227.0, 234.0, 219.0, 216.0, 210.0, 210...</td>\n",
       "      <td>[[0, 197, 20], [0, 198, 20], [0, 199, 20], [0,...</td>\n",
       "      <td>[487.13100436681225, 934.7450980392157, 1447.5...</td>\n",
       "      <td>[446.30131004366814, 660.8823529411765, 659.57...</td>\n",
       "      <td>[400.69868995633186, 230.50980392156862, 302.3...</td>\n",
       "      <td>[146.6943231441048, 148.9607843137255, 152.627...</td>\n",
       "      <td>[43.7223578316456, 46.59869009353022, 61.15134...</td>\n",
       "      <td>[21.522029146627354, 21.356164052492932, 25.74...</td>\n",
       "      <td>[15.513594509026754, 18.263093022693766, 23.39...</td>\n",
       "      <td>[5.059163303284433, 5.015032505981584, 6.48582...</td>\n",
       "    </tr>\n",
       "    <tr>\n",
       "      <th>1</th>\n",
       "      <td>2</td>\n",
       "      <td>17456</td>\n",
       "      <td>326.136801</td>\n",
       "      <td>245.599736</td>\n",
       "      <td>269</td>\n",
       "      <td>135</td>\n",
       "      <td>391</td>\n",
       "      <td>353</td>\n",
       "      <td>0.863103</td>\n",
       "      <td>-1.429548</td>\n",
       "      <td>...</td>\n",
       "      <td>[1357.0, 1275.0, 1378.0, 1378.0, 1454.0, 1527....</td>\n",
       "      <td>[[0, 108, 18], [0, 109, 18], [0, 110, 18], [0,...</td>\n",
       "      <td>[1345.6129032258063, 1315.0406091370558, 1729....</td>\n",
       "      <td>[652.883064516129, 901.5228426395939, 731.8295...</td>\n",
       "      <td>[264.09274193548384, 299.6852791878173, 425.71...</td>\n",
       "      <td>[149.31451612903226, 153.55329949238578, 155.0...</td>\n",
       "      <td>[66.7315761768687, 88.44051737103324, 74.47289...</td>\n",
       "      <td>[25.995676041510002, 33.55004511956685, 29.377...</td>\n",
       "      <td>[28.75045119566852, 34.718115506091145, 26.360...</td>\n",
       "      <td>[6.841442322153707, 8.951195668521581, 7.74936...</td>\n",
       "    </tr>\n",
       "    <tr>\n",
       "      <th>2</th>\n",
       "      <td>3</td>\n",
       "      <td>6480</td>\n",
       "      <td>219.750309</td>\n",
       "      <td>130.168056</td>\n",
       "      <td>148</td>\n",
       "      <td>98</td>\n",
       "      <td>279</td>\n",
       "      <td>171</td>\n",
       "      <td>0.860131</td>\n",
       "      <td>0.197693</td>\n",
       "      <td>...</td>\n",
       "      <td>[256.0, 245.0, 218.0, 229.0, 241.0, 235.0, 214...</td>\n",
       "      <td>[[0, 31, 18], [1, 30, 18], [1, 31, 18], [2, 29...</td>\n",
       "      <td>[2892.4157303370785, 1846.7439024390244, 2205....</td>\n",
       "      <td>[835.7415730337078, 639.8658536585366, 727.796...</td>\n",
       "      <td>[368.96629213483146, 238.26829268292684, 375.8...</td>\n",
       "      <td>[172.65168539325842, 166.6341463414634, 152.05...</td>\n",
       "      <td>[93.46658998222316, 113.636934016522, 114.7067...</td>\n",
       "      <td>[26.15162605876817, 31.04695179337028, 31.6036...</td>\n",
       "      <td>[9.857785213845029, 12.410436055631077, 11.066...</td>\n",
       "      <td>[6.096413259437415, 7.270208093694447, 6.89114...</td>\n",
       "    </tr>\n",
       "    <tr>\n",
       "      <th>3</th>\n",
       "      <td>4</td>\n",
       "      <td>17279</td>\n",
       "      <td>221.896348</td>\n",
       "      <td>231.103131</td>\n",
       "      <td>141</td>\n",
       "      <td>144</td>\n",
       "      <td>291</td>\n",
       "      <td>332</td>\n",
       "      <td>0.792619</td>\n",
       "      <td>1.247677</td>\n",
       "      <td>...</td>\n",
       "      <td>[502.0, 470.0, 413.0, 327.0, 281.0, 336.0, 496...</td>\n",
       "      <td>[[0, 9, 15], [0, 10, 15], [0, 11, 15], [0, 12,...</td>\n",
       "      <td>[1218.0708661417323, 1587.5771028037384, 1608....</td>\n",
       "      <td>[581.9409448818898, 646.2663551401869, 565.186...</td>\n",
       "      <td>[407.248031496063, 457.9789719626168, 481.2217...</td>\n",
       "      <td>[148.98425196850394, 148.76401869158877, 158.2...</td>\n",
       "      <td>[64.24659574468085, 85.42234042553191, 74.4386...</td>\n",
       "      <td>[22.763297872340427, 31.481063829787235, 27.03...</td>\n",
       "      <td>[26.648687943262413, 31.45613475177305, 23.964...</td>\n",
       "      <td>[6.66677304964539, 8.624716312056737, 7.063687...</td>\n",
       "    </tr>\n",
       "  </tbody>\n",
       "</table>\n",
       "<p>4 rows × 29 columns</p>\n",
       "</div>"
      ],
      "text/plain": [
       "   label   area  centroid-0  centroid-1  bbox-0  bbox-1  bbox-2  bbox-3  \\\n",
       "0      1  21500  416.317721  305.246605     351     191     512     448   \n",
       "1      2  17456  326.136801  245.599736     269     135     391     353   \n",
       "2      3   6480  219.750309  130.168056     148      98     279     171   \n",
       "3      4  17279  221.896348  231.103131     141     144     291     332   \n",
       "\n",
       "   eccentricity  orientation  ...  \\\n",
       "0      0.927055    -1.159706  ...   \n",
       "1      0.863103    -1.429548  ...   \n",
       "2      0.860131     0.197693  ...   \n",
       "3      0.792619     1.247677  ...   \n",
       "\n",
       "                                         plak_signal  \\\n",
       "0  [161.0, 227.0, 234.0, 219.0, 216.0, 210.0, 210...   \n",
       "1  [1357.0, 1275.0, 1378.0, 1378.0, 1454.0, 1527....   \n",
       "2  [256.0, 245.0, 218.0, 229.0, 241.0, 235.0, 214...   \n",
       "3  [502.0, 470.0, 413.0, 327.0, 281.0, 336.0, 496...   \n",
       "\n",
       "                                outside_ring_regions  \\\n",
       "0  [[0, 197, 20], [0, 198, 20], [0, 199, 20], [0,...   \n",
       "1  [[0, 108, 18], [0, 109, 18], [0, 110, 18], [0,...   \n",
       "2  [[0, 31, 18], [1, 30, 18], [1, 31, 18], [2, 29...   \n",
       "3  [[0, 9, 15], [0, 10, 15], [0, 11, 15], [0, 12,...   \n",
       "\n",
       "                                      signal_edge_00  \\\n",
       "0  [487.13100436681225, 934.7450980392157, 1447.5...   \n",
       "1  [1345.6129032258063, 1315.0406091370558, 1729....   \n",
       "2  [2892.4157303370785, 1846.7439024390244, 2205....   \n",
       "3  [1218.0708661417323, 1587.5771028037384, 1608....   \n",
       "\n",
       "                                      signal_edge_01  \\\n",
       "0  [446.30131004366814, 660.8823529411765, 659.57...   \n",
       "1  [652.883064516129, 901.5228426395939, 731.8295...   \n",
       "2  [835.7415730337078, 639.8658536585366, 727.796...   \n",
       "3  [581.9409448818898, 646.2663551401869, 565.186...   \n",
       "\n",
       "                                      signal_edge_02  \\\n",
       "0  [400.69868995633186, 230.50980392156862, 302.3...   \n",
       "1  [264.09274193548384, 299.6852791878173, 425.71...   \n",
       "2  [368.96629213483146, 238.26829268292684, 375.8...   \n",
       "3  [407.248031496063, 457.9789719626168, 481.2217...   \n",
       "\n",
       "                                      signal_edge_03  \\\n",
       "0  [146.6943231441048, 148.9607843137255, 152.627...   \n",
       "1  [149.31451612903226, 153.55329949238578, 155.0...   \n",
       "2  [172.65168539325842, 166.6341463414634, 152.05...   \n",
       "3  [148.98425196850394, 148.76401869158877, 158.2...   \n",
       "\n",
       "                                    signal_radial_00  \\\n",
       "0  [43.7223578316456, 46.59869009353022, 61.15134...   \n",
       "1  [66.7315761768687, 88.44051737103324, 74.47289...   \n",
       "2  [93.46658998222316, 113.636934016522, 114.7067...   \n",
       "3  [64.24659574468085, 85.42234042553191, 74.4386...   \n",
       "\n",
       "                                    signal_radial_01  \\\n",
       "0  [21.522029146627354, 21.356164052492932, 25.74...   \n",
       "1  [25.995676041510002, 33.55004511956685, 29.377...   \n",
       "2  [26.15162605876817, 31.04695179337028, 31.6036...   \n",
       "3  [22.763297872340427, 31.481063829787235, 27.03...   \n",
       "\n",
       "                                    signal_radial_02  \\\n",
       "0  [15.513594509026754, 18.263093022693766, 23.39...   \n",
       "1  [28.75045119566852, 34.718115506091145, 26.360...   \n",
       "2  [9.857785213845029, 12.410436055631077, 11.066...   \n",
       "3  [26.648687943262413, 31.45613475177305, 23.964...   \n",
       "\n",
       "                                    signal_radial_03  \n",
       "0  [5.059163303284433, 5.015032505981584, 6.48582...  \n",
       "1  [6.841442322153707, 8.951195668521581, 7.74936...  \n",
       "2  [6.096413259437415, 7.270208093694447, 6.89114...  \n",
       "3  [6.66677304964539, 8.624716312056737, 7.063687...  \n",
       "\n",
       "[4 rows x 29 columns]"
      ]
     },
     "execution_count": 31,
     "metadata": {},
     "output_type": "execute_result"
    }
   ],
   "source": [
    "df"
   ]
  },
  {
   "cell_type": "markdown",
   "metadata": {},
   "source": [
    "## Save data frame"
   ]
  },
  {
   "cell_type": "code",
   "execution_count": 32,
   "metadata": {},
   "outputs": [],
   "source": [
    "df.to_pickle(path_df)"
   ]
  },
  {
   "cell_type": "markdown",
   "metadata": {},
   "source": [
    "## Visualize image"
   ]
  },
  {
   "cell_type": "code",
   "execution_count": 12,
   "metadata": {},
   "outputs": [
    {
     "name": "stdout",
     "output_type": "stream",
     "text": [
      "Assistant skips harvesting pyclesperanto as it's not installed.\n"
     ]
    },
    {
     "data": {
      "text/plain": [
       "<Labels layer 'mask' at 0x25aa4d19df0>"
      ]
     },
     "execution_count": 12,
     "metadata": {},
     "output_type": "execute_result"
    }
   ],
   "source": [
    "viewer = napari.Viewer()\n",
    "viewer.add_image(im[:,0,:,:],blending='additive',colormap='magenta')\n",
    "viewer.add_image(signal_max,blending='additive',colormap='green')\n",
    "viewer.add_image(image_actin_mask,blending='additive',colormap='green',visible=False)\n",
    "viewer.add_image(image_actin_mask_2D,blending='additive',colormap='gray')\n",
    "viewer.add_labels(mask,blending='additive')"
   ]
  }
 ],
 "metadata": {
  "kernelspec": {
   "display_name": "Python 3.9.13 ('napari-env')",
   "language": "python",
   "name": "python3"
  },
  "language_info": {
   "codemirror_mode": {
    "name": "ipython",
    "version": 3
   },
   "file_extension": ".py",
   "mimetype": "text/x-python",
   "name": "python",
   "nbconvert_exporter": "python",
   "pygments_lexer": "ipython3",
   "version": "3.9.13 | packaged by conda-forge | (main, May 27 2022, 16:51:29) [MSC v.1929 64 bit (AMD64)]"
  },
  "orig_nbformat": 4,
  "vscode": {
   "interpreter": {
    "hash": "850c40123f56a6a81eac0cf1a4fa0b8eb9afb778da43d1733bc64827a43fb21d"
   }
  }
 },
 "nbformat": 4,
 "nbformat_minor": 2
}
