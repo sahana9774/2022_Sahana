{
 "cells": [
  {
   "cell_type": "code",
   "execution_count": 1,
   "metadata": {},
   "outputs": [],
   "source": [
    "import os\n",
    "import pickle\n",
    "import nd2\n",
    "import numpy as np\n",
    "import napari\n",
    "from napari import Viewer\n",
    "from magicgui import magicgui\n",
    "from skimage.io import imsave\n",
    "from skimage.draw import polygon, polygon2mask\n",
    "from skimage.measure import find_contours, approximate_polygon\n",
    "from cardiomyocytes_helper_functions import create_mask_from_shapes,fill_gaps_between_cells "
   ]
  },
  {
   "cell_type": "code",
   "execution_count": 2,
   "metadata": {},
   "outputs": [],
   "source": [
    "def create_mask_from_shapes(vertices_polygons, im_shape):\n",
    "\n",
    "    '''\n",
    "    Function to create mask from vertices of the polygons. It removes regions of overlap.\n",
    "\n",
    "    Input:\n",
    "    - vertices_polygons - list of polygons (coordinates of vertices)\n",
    "    - im_shape - size of the image to create\n",
    "    Output:\n",
    "    - label image of polygons\n",
    "    '''\n",
    "\n",
    "    # create a mask out of vertices\n",
    "    mask = np.zeros(im_shape).astype('uint8')\n",
    "\n",
    "    for i,poly in enumerate(vertices_polygons):\n",
    "\n",
    "        # if drawing was in 3D\n",
    "        if len(poly.shape) > 2:\n",
    "            mask_coord = polygon(vertices_polygons[i][:,1],vertices_polygons[i][:,2],shape=im_shape)\n",
    "        else:\n",
    "            #mask_coord = polygon(vertices_polygons[i][:,0],vertices_polygons[i][:,1],shape=im_shape)\n",
    "            mask_single = polygon2mask(im_shape,vertices_polygons[i])\n",
    "\n",
    "        mask[mask_single] = mask[mask_single] + (i+1)\n",
    "\n",
    "        # mark areas of the overlap\n",
    "        mask[mask > (i+1)] = 255\n",
    "\n",
    "    mask_shapes_overlap = mask\n",
    "\n",
    "    # shapes without overlapping regions\n",
    "    mask_shapes = mask_shapes_overlap.copy()\n",
    "    mask_shapes[mask_shapes == 255] = 0\n",
    "\n",
    "    return mask_shapes_overlap,mask_shapes"
   ]
  },
  {
   "cell_type": "code",
   "execution_count": 3,
   "metadata": {},
   "outputs": [],
   "source": [
    "def correct_shapes(viewer: Viewer):\n",
    "\n",
    "    pad_width = 1\n",
    "    \n",
    "    # get coordinates of vertices\n",
    "    vertices_polygons = viewer.layers['Shapes'].data\n",
    "\n",
    "    # correction only makes sense when there are more than one region\n",
    "    if len(vertices_polygons) > 1:\n",
    "    \n",
    "        # create mask from vertices\n",
    "        mask_shapes_overlap, mask_shapes = create_mask_from_shapes(vertices_polygons, im.shape[2:])\n",
    "\n",
    "        # calculate correction for mask\n",
    "        im_divided = fill_gaps_between_cells(mask_shapes_overlap)\n",
    "        mask_corrected = mask_shapes + im_divided\n",
    "\n",
    "        # calculate corrected polygons\n",
    "        shapes_corrected = []\n",
    "        for level in range(np.max(mask_corrected)):\n",
    "\n",
    "            # padding is necessary to prevent losing vertices at the corners\n",
    "            mask_pad = np.pad(mask_corrected==level+1, pad_width, 'constant', constant_values=0)\n",
    "\n",
    "            contour = find_contours(mask_pad,0.5,fully_connected='high')[0]\n",
    "\n",
    "            coords = approximate_polygon(contour, tolerance=1)\n",
    "\n",
    "            coords = coords - pad_width\n",
    "\n",
    "            shapes_corrected.append(coords)\n",
    "\n",
    "    else:\n",
    "\n",
    "        shapes_corrected = vertices_polygons\n",
    "    \n",
    "    # visualize corrected polygons\n",
    "    if ('Shapes corrected' in [x.name for x in viewer.layers]):\n",
    "\n",
    "        viewer.layers['Shapes corrected'].data = shapes_corrected\n",
    "\n",
    "    else:\n",
    "        viewer.add_shapes(shapes_corrected, shape_type='polygon',name='Shapes corrected')\n",
    "\n",
    "    viewer.status = 'Polygons corrected.'"
   ]
  },
  {
   "cell_type": "code",
   "execution_count": 4,
   "metadata": {},
   "outputs": [],
   "source": [
    "def save_shapes_and_mask(viewer: Viewer):\n",
    "\n",
    "    global path_save\n",
    "    global im_name\n",
    "    global im\n",
    "    \n",
    "    # get coordinates of vertices from corrected layer if possible\n",
    "    if ('Shapes corrected' in [x.name for x in viewer.layers]):\n",
    "\n",
    "        vertices_polygons = viewer.layers['Shapes corrected'].data\n",
    "\n",
    "    else:\n",
    "\n",
    "        vertices_polygons = viewer.layers['Shapes'].data\n",
    "\n",
    "    \n",
    "    # save vertices\n",
    "    pkl_path = os.path.join(path_save,im_name.replace('.nd2','_polygons.pkl'))\n",
    "    with open(pkl_path, 'wb') as f:\n",
    "        pickle.dump(vertices_polygons, f)\n",
    "\n",
    "    \n",
    "    # create mask from vertices\n",
    "    _, mask = create_mask_from_shapes(vertices_polygons, im.shape[2:])\n",
    "\n",
    "    # display mask\n",
    "    viewer.add_labels(mask)\n",
    "    \n",
    "    # save mask\n",
    "    mask_path = os.path.join(path_save,im_name.replace('.nd2','_mask.png'))\n",
    "    imsave(mask_path,mask)\n",
    "\n",
    "    \n",
    "    viewer.status = 'Data has been saved.'"
   ]
  },
  {
   "cell_type": "code",
   "execution_count": 5,
   "metadata": {},
   "outputs": [],
   "source": [
    "path_dir = r'D:\\data_analysis\\2022_Sahana\\data\\Collagen\\60x images'\n",
    "\n",
    "path_save = r'D:\\data_analysis\\2022_Sahana\\masks'"
   ]
  },
  {
   "cell_type": "code",
   "execution_count": 6,
   "metadata": {},
   "outputs": [
    {
     "data": {
      "text/plain": [
       "16"
      ]
     },
     "execution_count": 6,
     "metadata": {},
     "output_type": "execute_result"
    }
   ],
   "source": [
    "# find a list of available files\n",
    "# and print its length\n",
    "list_files = os.listdir(path_dir)\n",
    "len(list_files)"
   ]
  },
  {
   "cell_type": "code",
   "execution_count": 7,
   "metadata": {},
   "outputs": [
    {
     "data": {
      "text/plain": [
       "1"
      ]
     },
     "execution_count": 7,
     "metadata": {},
     "output_type": "execute_result"
    }
   ],
   "source": [
    "# ideas to change the length of the list\n",
    "\n",
    "# choose n first elements\n",
    "list_files = list_files[1:2]\n",
    "len(list_files)"
   ]
  },
  {
   "cell_type": "code",
   "execution_count": 9,
   "metadata": {},
   "outputs": [
    {
     "name": "stderr",
     "output_type": "stream",
     "text": [
      "c:\\Users\\lab\\.conda\\envs\\napari-env\\lib\\site-packages\\numpy\\core\\numeric.py:2463: FutureWarning: elementwise comparison failed; returning scalar instead, but in the future will perform elementwise comparison\n",
      "  return bool(asarray(a1 == a2).all())\n"
     ]
    }
   ],
   "source": [
    "# loop over all files found in the loop\n",
    "\n",
    "for im_name in list_files:\n",
    "\n",
    "    # create a full pathway \n",
    "    path_im = os.path.join(path_dir,im_name)\n",
    "\n",
    "    # open image\n",
    "    im = nd2.imread(path_im)\n",
    "\n",
    "    # create a maximum projection\n",
    "    actin_max = np.max(im[:,0,:,:],axis=0)\n",
    "\n",
    "    # create a viewer to draw shapes\n",
    "    viewer = napari.Viewer()\n",
    "    \n",
    "    viewer.add_image(im[:,0,:,:],colormap='magenta',blending='additive')\n",
    "    viewer.add_image(im[:,1,:,:],colormap='red',blending='additive')\n",
    "    viewer.add_image(im[:,2,:,:],colormap='green',blending='additive')\n",
    "    viewer.add_image(im[:,3,:,:],colormap='blue',blending='additive')\n",
    "    viewer.add_image(actin_max,blending='additive')\n",
    "    \n",
    "    # open existing shapes or add an empty layer\n",
    "    pkl_path = os.path.join(path_save,im_name.replace('.nd2','_polygons.pkl'))\n",
    "\n",
    "    if os.path.exists(pkl_path):\n",
    "\n",
    "        # open existing mask\n",
    "        with open(pkl_path, 'rb') as f:\n",
    "            vertices_polygons = pickle.load(f)\n",
    "\n",
    "        viewer.add_shapes(vertices_polygons, shape_type='polygon',name='Shapes')\n",
    "\n",
    "    else:\n",
    "        viewer.add_shapes()\n",
    "\n",
    "\n",
    "    # add polygons correction button\n",
    "    correct_data = magicgui(correct_shapes, call_button='Refine shapes')\n",
    "    viewer.window.add_dock_widget(correct_data,area='left')\n",
    "\n",
    "    # add saving button to napari\n",
    "    save_data = magicgui(save_shapes_and_mask, call_button='Save Data')\n",
    "    viewer.window.add_dock_widget(save_data,area='left')\n",
    "\n",
    "    # we will wait for the user to draw shapes here\n",
    "    #viewer.show(block=True)\n"
   ]
  },
  {
   "cell_type": "code",
   "execution_count": null,
   "metadata": {},
   "outputs": [],
   "source": []
  }
 ],
 "metadata": {
  "kernelspec": {
   "display_name": "Python 3 (ipykernel)",
   "language": "python",
   "name": "python3"
  },
  "language_info": {
   "codemirror_mode": {
    "name": "ipython",
    "version": 3
   },
   "file_extension": ".py",
   "mimetype": "text/x-python",
   "name": "python",
   "nbconvert_exporter": "python",
   "pygments_lexer": "ipython3",
   "version": "3.9.13 | packaged by conda-forge | (main, May 27 2022, 16:51:29) [MSC v.1929 64 bit (AMD64)]"
  },
  "vscode": {
   "interpreter": {
    "hash": "850c40123f56a6a81eac0cf1a4fa0b8eb9afb778da43d1733bc64827a43fb21d"
   }
  }
 },
 "nbformat": 4,
 "nbformat_minor": 2
}
